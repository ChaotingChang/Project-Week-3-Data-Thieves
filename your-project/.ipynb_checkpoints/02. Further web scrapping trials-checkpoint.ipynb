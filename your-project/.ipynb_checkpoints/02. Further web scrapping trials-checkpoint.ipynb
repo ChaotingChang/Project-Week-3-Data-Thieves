{
 "cells": [
  {
   "cell_type": "markdown",
   "metadata": {},
   "source": [
    "# 2017 happiness report"
   ]
  },
  {
   "cell_type": "markdown",
   "metadata": {},
   "source": [
    "##### import all libraries needed"
   ]
  },
  {
   "cell_type": "code",
   "execution_count": 2,
   "metadata": {},
   "outputs": [],
   "source": [
    "import requests\n",
    "import pandas as pd\n",
    "from bs4 import BeautifulSoup\n",
    "import os\n"
   ]
  },
  {
   "cell_type": "markdown",
   "metadata": {},
   "source": [
    "#### call url and pass through \"soup\""
   ]
  },
  {
   "cell_type": "code",
   "execution_count": 3,
   "metadata": {},
   "outputs": [],
   "source": [
    "url = \"https://en.wikipedia.org/wiki/World_Happiness_Report\"\n",
    "html = requests.get(url).content\n",
    "soup = BeautifulSoup(html, \"lxml\")"
   ]
  },
  {
   "cell_type": "code",
   "execution_count": 4,
   "metadata": {},
   "outputs": [],
   "source": [
    "# look for the table class on the website developer tools\n",
    "table = soup.find_all('table',{'class':\"mw-collapsible\"})[5]\n"
   ]
  },
  {
   "cell_type": "markdown",
   "metadata": {},
   "source": [
    "#### check on the rows and layout of the table\n",
    "!!! failed as this is an embedded list into a collapsible sub-section - data could not be extracted!!!"
   ]
  },
  {
   "cell_type": "code",
   "execution_count": 5,
   "metadata": {},
   "outputs": [],
   "source": [
    "rows = table.find_all('tr')"
   ]
  },
  {
   "cell_type": "code",
   "execution_count": 6,
   "metadata": {},
   "outputs": [],
   "source": [
    "# to see the overall layout of the table use:\n",
    "#rows = [row.text.strip().split(\"\\n\") for row in rows]\n",
    "#rows\n",
    "# edit out all info we do not need to get \"clean data\"\n",
    "rows = [row.text.replace(\"\\n\\n\", \",\").replace(\"\\n\", \",\").replace(\"\\xa0\", \"\").strip(\",\").split(\",\") for row in rows]\n",
    "#rows [:2]"
   ]
  },
  {
   "cell_type": "markdown",
   "metadata": {},
   "source": [
    "#### create table"
   ]
  },
  {
   "cell_type": "code",
   "execution_count": 63,
   "metadata": {},
   "outputs": [
    {
     "data": {
      "text/plain": [
       "'colnames = rows[1]\\ndata = rows[2:]\\n\\nhappiness_2017_extended = pd.DataFrame(data, columns=colnames)\\nhappiness_2017_extended.head(20)\\n'"
      ]
     },
     "execution_count": 63,
     "metadata": {},
     "output_type": "execute_result"
    }
   ],
   "source": [
    "\"\"\"colnames = rows[1]\n",
    "data = rows[2:]\n",
    "\n",
    "happiness_2017_extended = pd.DataFrame(data, columns=colnames)\n",
    "happiness_2017_extended.head(20)\n",
    "\"\"\""
   ]
  },
  {
   "cell_type": "markdown",
   "metadata": {},
   "source": [
    "# Austrial election results "
   ]
  },
  {
   "cell_type": "markdown",
   "metadata": {},
   "source": [
    "### 2017 elections"
   ]
  },
  {
   "cell_type": "code",
   "execution_count": 7,
   "metadata": {},
   "outputs": [],
   "source": [
    "url = \"https://wahl17.bmi.gv.at/\"\n",
    "html = requests.get(url).content\n",
    "soup = BeautifulSoup(html, \"lxml\")\n",
    "#print(soup.prettify())"
   ]
  },
  {
   "cell_type": "code",
   "execution_count": 8,
   "metadata": {},
   "outputs": [
    {
     "data": {
      "text/plain": [
       "['FPÖ26,0\\xa0%51']"
      ]
     },
     "execution_count": 8,
     "metadata": {},
     "output_type": "execute_result"
    }
   ],
   "source": [
    "rows = soup.find_all('tr')\n",
    "\"\"\"rows = [row.text.strip().split(\"\\n\") for row in rows]\n",
    "rows\n",
    "\"\"\"\n",
    "\n",
    "# as we are only looking for the votes ONLY for the extreme parties\n",
    "# we only need to select the FPÖ row (index = 3) and the KPÖ (not on list as percetnage too little)\n",
    "FPO_2017 = [row.text.strip().split(\"\\n\") for row in rows][3]\n",
    "FPO_2017"
   ]
  },
  {
   "cell_type": "code",
   "execution_count": 13,
   "metadata": {},
   "outputs": [
    {
     "data": {
      "text/plain": [
       "26"
      ]
     },
     "execution_count": 13,
     "metadata": {},
     "output_type": "execute_result"
    }
   ],
   "source": [
    "FPO_2017 = [row.replace(\",0\\xa0%51\", \"\").replace(\"FPÖ\", \"\") for row in FPO_2017][0]\n",
    "FPO_2017 = int(FPO_2017)\n",
    "FPO_2017"
   ]
  },
  {
   "cell_type": "markdown",
   "metadata": {},
   "source": [
    "FPÖ: 26.00%\n",
    "\n",
    "We realised that this made no sense as it is not a atuomatable functin that we can use for more examples, and therefore we did not continue with this method"
   ]
  },
  {
   "cell_type": "markdown",
   "metadata": {},
   "source": [
    "## 2013 elections"
   ]
  },
  {
   "cell_type": "code",
   "execution_count": 14,
   "metadata": {},
   "outputs": [],
   "source": [
    "url = \"http://wahl13.bmi.gv.at/\"\n",
    "html = requests.get(url).content\n",
    "soup = BeautifulSoup(html, \"lxml\")\n",
    "#print(soup.prettify())"
   ]
  },
  {
   "cell_type": "code",
   "execution_count": 15,
   "metadata": {},
   "outputs": [
    {
     "data": {
      "text/plain": [
       "'FPÖ962.313205%857.02917'"
      ]
     },
     "execution_count": 15,
     "metadata": {},
     "output_type": "execute_result"
    }
   ],
   "source": [
    "table = soup.find_all('section',{'class':'content-box table'})[0]\n",
    "rows = table.find_all('tr')\n",
    "rows = [row.text.replace(\"\\n\\n\", \",\").replace(\"\\n\", \",\").replace(\"\\xa0\", \"\").strip(\",\").split(\",\") for row in rows]\n",
    "\n",
    "FPO_2013 = rows[11][0]+rows[11][1]\n",
    "FPO_2013"
   ]
  },
  {
   "cell_type": "code",
   "execution_count": 17,
   "metadata": {},
   "outputs": [
    {
     "data": {
      "text/plain": [
       "'20'"
      ]
     },
     "execution_count": 17,
     "metadata": {},
     "output_type": "execute_result"
    }
   ],
   "source": [
    "FPO_2013 = FPO_2013.replace(\"FPÖ962.313\", \"\").replace(\"5%857.02917\", \"\")\n",
    "FPO_2013"
   ]
  },
  {
   "cell_type": "code",
   "execution_count": null,
   "metadata": {},
   "outputs": [],
   "source": []
  }
 ],
 "metadata": {
  "kernelspec": {
   "display_name": "Python 3",
   "language": "python",
   "name": "python3"
  },
  "language_info": {
   "codemirror_mode": {
    "name": "ipython",
    "version": 3
   },
   "file_extension": ".py",
   "mimetype": "text/x-python",
   "name": "python",
   "nbconvert_exporter": "python",
   "pygments_lexer": "ipython3",
   "version": "3.7.3"
  }
 },
 "nbformat": 4,
 "nbformat_minor": 2
}
